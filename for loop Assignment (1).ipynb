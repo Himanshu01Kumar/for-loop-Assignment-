{
 "cells": [
  {
   "cell_type": "markdown",
   "id": "78d1eca3-0610-4a60-a172-1aec0bf5b61b",
   "metadata": {},
   "source": [
    "## Question 1: Write a Python program to print all the numbers from 1 to 10 using a for loop."
   ]
  },
  {
   "cell_type": "code",
   "execution_count": 15,
   "id": "17578148-1539-4121-be3c-38508b4f90e0",
   "metadata": {},
   "outputs": [
    {
     "name": "stdout",
     "output_type": "stream",
     "text": [
      "1\n",
      "2\n",
      "3\n",
      "4\n",
      "5\n",
      "6\n",
      "7\n",
      "8\n",
      "9\n",
      "10\n"
     ]
    }
   ],
   "source": [
    "import time\n",
    "for i in range(1,11,1):\n",
    "    print(i)\n",
    "    time.sleep(1)"
   ]
  },
  {
   "cell_type": "markdown",
   "id": "f81242f8-8b08-4935-a2a4-d4eb86f82d01",
   "metadata": {},
   "source": [
    "## Question 2: Write a Python program to find the sum of all numbers from 1 to 100 using a for loop."
   ]
  },
  {
   "cell_type": "code",
   "execution_count": 24,
   "id": "0f781bd8-5d8f-46ee-a5aa-30085196dba1",
   "metadata": {},
   "outputs": [
    {
     "name": "stdout",
     "output_type": "stream",
     "text": [
      "the total sum of the the number 5050\n"
     ]
    }
   ],
   "source": [
    "total_sum = 0\n",
    "for number in range(1,101,1):\n",
    "    total_sum+=number\n",
    "\n",
    "print(\"the total sum of the the number\",total_sum)"
   ]
  },
  {
   "cell_type": "markdown",
   "id": "83590ac1-b09f-48f0-af56-d229ca3ecae8",
   "metadata": {},
   "source": [
    "## Question 3: Write a Python program to print the multiplication table of a given number using a for loop."
   ]
  },
  {
   "cell_type": "code",
   "execution_count": 22,
   "id": "ab00d152-5045-4ea2-9e25-ddb5d7b7e2b3",
   "metadata": {},
   "outputs": [
    {
     "name": "stdout",
     "output_type": "stream",
     "text": [
      "16 x 1 = 16\n",
      "16 x 2 = 32\n",
      "16 x 3 = 48\n",
      "16 x 4 = 64\n",
      "16 x 5 = 80\n",
      "16 x 6 = 96\n",
      "16 x 7 = 112\n",
      "16 x 8 = 128\n",
      "16 x 9 = 144\n",
      "16 x 10 = 160\n"
     ]
    }
   ],
   "source": [
    "for i in range(1,11,1):\n",
    "    table = 0\n",
    "    table = num * i\n",
    "    print(f\"{num} x {i} = {table}\")"
   ]
  },
  {
   "cell_type": "markdown",
   "id": "7e1629e4-292a-4347-ae03-cd71f5c7c5dc",
   "metadata": {},
   "source": [
    "## Question 4: Write a Python program to count the number of even and odd numbers from aseries of numbers using a for loop."
   ]
  },
  {
   "cell_type": "code",
   "execution_count": 27,
   "id": "271f77ac-e461-41bf-a7e4-785e8fda507f",
   "metadata": {},
   "outputs": [
    {
     "name": "stdout",
     "output_type": "stream",
     "text": [
      "even numbers: 27\n",
      "odd numbers: 8\n"
     ]
    }
   ],
   "source": [
    "for i in range(1,11,1):\n",
    "   if i % 2 ==0:\n",
    "       even +=1\n",
    "else:\n",
    "    odd +=1\n",
    "print(\"even numbers:\",even)\n",
    "print(\"odd numbers:\",odd)"
   ]
  },
  {
   "cell_type": "markdown",
   "id": "a19c3090-8d2f-456d-ac59-0c527bc95262",
   "metadata": {},
   "source": [
    "## Question 5: Write a Python program to find the factorial of a number using a for loop."
   ]
  },
  {
   "cell_type": "code",
   "execution_count": 13,
   "id": "5aa4b53c-669d-43ed-84fd-113cd960c445",
   "metadata": {},
   "outputs": [
    {
     "name": "stdin",
     "output_type": "stream",
     "text": [
      "Enter a number to calculate factorial:  12\n"
     ]
    },
    {
     "name": "stdout",
     "output_type": "stream",
     "text": [
      "Factorial is: 479001600\n"
     ]
    }
   ],
   "source": [
    "n = int(input(\"Enter a number to calculate factorial: \"))\n",
    "fact = 1\n",
    "\n",
    "if n == 0 or n == 1:\n",
    "    print(\"Factorial is: 1\")\n",
    "else:\n",
    "    for i in range(2, n + 1):\n",
    "        fact *= i\n",
    "    print(\"Factorial is:\", fact)"
   ]
  },
  {
   "cell_type": "markdown",
   "id": "e820757d-8e43-4086-b4b3-28b661cb3639",
   "metadata": {},
   "source": [
    "## Question 6: Write a Python program to print the Fibonacci sequence up to a specified numberusing a for loop."
   ]
  },
  {
   "cell_type": "code",
   "execution_count": null,
   "id": "a68b70f8-65af-4bbe-ae74-b3f42739f5d4",
   "metadata": {},
   "outputs": [],
   "source": []
  },
  {
   "cell_type": "markdown",
   "id": "4a511912-1787-491f-8fc4-0285f59af8f6",
   "metadata": {},
   "source": [
    "## Question 7: Write a Python program to check if a given number is prime or not using a for loop."
   ]
  },
  {
   "cell_type": "code",
   "execution_count": 29,
   "id": "fd595b0a-0923-4f67-912d-8e61ba474fd6",
   "metadata": {},
   "outputs": [
    {
     "name": "stdin",
     "output_type": "stream",
     "text": [
      "Enter a number:  5\n"
     ]
    },
    {
     "name": "stdout",
     "output_type": "stream",
     "text": [
      "Prime number\n"
     ]
    }
   ],
   "source": [
    "num = int(input(\"Enter a number: \"))\n",
    "if num <= 1:\n",
    "    print(\"Not a prime number\")\n",
    "else:\n",
    "    for i in range(2, num):\n",
    "        if num % i == 0:\n",
    "            print(\"Not a prime number\")\n",
    "            break\n",
    "    else:\n",
    "        print(\"Prime number\")"
   ]
  },
  {
   "cell_type": "markdown",
   "id": "e5a5d68d-afa8-4c59-aa4f-3a13d9018ead",
   "metadata": {},
   "source": [
    "## Question 8: Write a Python program to find the largest element in a list using a for loop."
   ]
  },
  {
   "cell_type": "code",
   "execution_count": 32,
   "id": "4b44682e-534d-4300-baaa-d62086617f80",
   "metadata": {},
   "outputs": [
    {
     "name": "stdout",
     "output_type": "stream",
     "text": [
      "The largest element in the list is: 89\n"
     ]
    }
   ],
   "source": [
    "list1 = [12,45,23,67,34,89,5]\n",
    "\n",
    "largest = list1[0]\n",
    "\n",
    "for i in list1[1:]:\n",
    "    if i > largest:\n",
    "        largest = i\n",
    "\n",
    "print(\"The largest element in the list is:\", largest)"
   ]
  },
  {
   "cell_type": "markdown",
   "id": "848db49c-7420-4785-ac12-820d111729dd",
   "metadata": {},
   "source": [
    "## Question 9: Write a Python program to reverse a given string using a for loop."
   ]
  },
  {
   "cell_type": "code",
   "execution_count": 33,
   "id": "4d2bae32-04c3-497a-bfcf-bfb7ae50a941",
   "metadata": {},
   "outputs": [
    {
     "name": "stdin",
     "output_type": "stream",
     "text": [
      "Enter a string:  python\n"
     ]
    },
    {
     "name": "stdout",
     "output_type": "stream",
     "text": [
      "Reversed string: nohtyp\n"
     ]
    }
   ],
   "source": [
    "original_string = input(\"Enter a string: \")\n",
    "\n",
    "reversed_string = \"\"\n",
    "\n",
    "for char in original_string:\n",
    "    reversed_string = char + reversed_string\n",
    "\n",
    "print(\"Reversed string:\", reversed_string)"
   ]
  },
  {
   "cell_type": "code",
   "execution_count": null,
   "id": "69eab0da-65ad-4f63-82fb-aba81427fdb0",
   "metadata": {},
   "outputs": [],
   "source": []
  }
 ],
 "metadata": {
  "kernelspec": {
   "display_name": "Python 3 (ipykernel)",
   "language": "python",
   "name": "python3"
  },
  "language_info": {
   "codemirror_mode": {
    "name": "ipython",
    "version": 3
   },
   "file_extension": ".py",
   "mimetype": "text/x-python",
   "name": "python",
   "nbconvert_exporter": "python",
   "pygments_lexer": "ipython3",
   "version": "3.13.5"
  }
 },
 "nbformat": 4,
 "nbformat_minor": 5
}
